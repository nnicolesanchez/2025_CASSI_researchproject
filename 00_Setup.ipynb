{
 "cells": [
  {
   "cell_type": "markdown",
   "id": "1118a7b2-76cc-449b-9ec8-b1f990839875",
   "metadata": {},
   "source": [
    "# Clone the Guthub Directory for your Research \n",
    "## (This one you're looking at now!)"
   ]
  },
  {
   "cell_type": "markdown",
   "id": "69cd7ada-12bc-461a-bc27-fb8dfeaeccfe",
   "metadata": {},
   "source": [
    "1. Open a terminal window on your laptop\n",
    "  \n",
    "2. In a different web page, go to https://github.com/nnicolesanchez/2025_CASSI_researchproject\n",
    "\n",
    "3. Click the green button that says \"<> Code\"\n",
    "\n",
    "4. Copy the web address to your computer's clipboard: https://github.com/nnicolesanchez/2025_CASSI_researchproject\n",
    "\n",
    "5. Go back to your terminal and type:\n",
    "```git clone https://github.com/nnicolesanchez/2025_CASSI_researchproject```\n",
    "\n",
    "6. Hit enter\n",
    "\n",
    "What you've just done is make a copy of this git directory (and all the jupyter notebooks and data inside it) to your laptop. Now you'll be able to open the jupyter notebooks, edit the code, and run the code all on your laptop locally. These notebooks will be very similar to the Google CoLab ones that you've worked with before, but now all the data you'll access will be on your computer and *not* on Google Drive."
   ]
  },
  {
   "cell_type": "markdown",
   "id": "0fe7a8a3-48b7-426c-9c32-5570c04bcc5d",
   "metadata": {},
   "source": [
    "# How to Open Jupyter Notebook\n",
    "Confirm that things are working:\n",
    "\n",
    "- To make sure this has worked, let's try two things. First let's just open python to make sure you're running the correction version. In your terminal, type:\n",
    "- \n",
    "```python```\n",
    "\n",
    "You should see that you are running version 3.9. To get out of python just type:\n",
    "\n",
    "```exit()```\n",
    "\n",
    "Next, let's just test that you are able to open a Jupyter notebook. Type the following command in your terminal:\n",
    "\n",
    "```jupyter lab```\n",
    "\n",
    "You should see some output that says a Jupyter notebook server is running. If so, it worked! When you are done for the day, you can exit out of this by typing \"control-C\" and then \"y\" when it asks you if you really want to shut down the server."
   ]
  },
  {
   "cell_type": "markdown",
   "id": "2df83189-9526-4651-8589-d308342d440c",
   "metadata": {},
   "source": [
    "# We need to open the webpage locally\n",
    "## Try this, but we can do it together if you run into issues\n",
    "\n",
    "1. Open a new web page on your favorite browser\n",
    "  \n",
    "2. Go to the link that was printed when you ran the command \"jupyter lab\" into the terminal\n",
    "\n",
    "3. You should see a page that is split in two.\n",
    "   - On the left is a list of all the files in your current directory, you should see one that's called ```2025_CASSI_researchproject```\n",
    "   - On the right is a bunch of options for opening new files. Ignore this for now. \n",
    "######\n",
    "4. Click on the ```2025_CASSI_researchproject``` and then the left side column should show a list of files titled \"00_Setup_Lastname.ipynb\" and other similar names.\n",
    "\n",
    "5. Change all of the names from \"00_Setup_Lastname.ipynb\" to \"00_Setup_Rubalcava.ipynb\"\n",
    "   - If you don't do this, *some of your work could be erased!!!*"
   ]
  },
  {
   "cell_type": "markdown",
   "id": "5ce66aa0-b6c4-458e-9530-976e6e7c228e",
   "metadata": {},
   "source": [
    "# When you need to update the GitHub here are the instructions\n",
    "Nicole will let you know when you need to do this.\n",
    "\n",
    "Each time you start working and you know there's been an update to the github, make sure your files are up to date Get into the github directory:\n",
    "\n",
    "```cd 2023_CASSI_summerproject.git```\n",
    "\n",
    "Update the directory to get any newly added files\n",
    "\n",
    "```git pull```"
   ]
  },
  {
   "cell_type": "markdown",
   "id": "7a2b2456-38ac-4266-a98b-4ca5b31057af",
   "metadata": {},
   "source": [
    "# Other python packages you'll need\n",
    "These *should* have already been installed for you, but here are the links just in case. There is also extensive documentation for these packages that you can look over to become more familiar with the programming functions that are available.\n",
    "\n",
    "pynbody: https://github.com/pynbody/pynbody\n",
    "\n",
    "tangos: https://github.com/pynbody/tangos"
   ]
  },
  {
   "cell_type": "code",
   "execution_count": null,
   "id": "f4b2118a-23e7-43a9-b7cf-d58b8b2ec533",
   "metadata": {},
   "outputs": [],
   "source": []
  }
 ],
 "metadata": {
  "kernelspec": {
   "display_name": "Python 3 (ipykernel)",
   "language": "python",
   "name": "python3"
  },
  "language_info": {
   "codemirror_mode": {
    "name": "ipython",
    "version": 3
   },
   "file_extension": ".py",
   "mimetype": "text/x-python",
   "name": "python",
   "nbconvert_exporter": "python",
   "pygments_lexer": "ipython3",
   "version": "3.9.19"
  }
 },
 "nbformat": 4,
 "nbformat_minor": 5
}
