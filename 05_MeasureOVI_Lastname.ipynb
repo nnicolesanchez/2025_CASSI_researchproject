{
 "cells": [
  {
   "cell_type": "markdown",
   "id": "4d8efa82-0c31-440a-b1be-bf114b635134",
   "metadata": {
    "jp-MarkdownHeadingCollapsed": true
   },
   "source": [
    "### Resources\n",
    "\n",
    "In addition to the jupyter notebooks included in this github repository, there are a number of tutorials that may end up being useful to you as you progress through the research. \n",
    "\n",
    "Some useful links:\n",
    "\n",
    "- Making images with Pynbody:\n",
    "\n",
    "https://pynbody.readthedocs.io/v1-docs/tutorials/pictures.html\n",
    "\n",
    "- Once we start using Tangos:\n",
    "\n",
    "https://nbviewer.jupyter.org/github/pynbody/tangos/blob/master/docs/Data%20exploration%20with%20python.ipynb"
   ]
  },
  {
   "cell_type": "markdown",
   "id": "bd00e5a6-7ad2-4c86-96ac-b2857cbeaffb",
   "metadata": {},
   "source": [
    "# Measuring OVI "
   ]
  },
  {
   "cell_type": "code",
   "execution_count": null,
   "id": "4343e76d-20c8-4371-958b-bd13f1da11a5",
   "metadata": {},
   "outputs": [],
   "source": [
    "# Copy and paste the packages you usually load in here\n",
    "# Don't forget to include your module for loading simulations"
   ]
  },
  {
   "cell_type": "markdown",
   "id": "ad5c1541-7d2b-4c27-995f-fd5f7275f044",
   "metadata": {},
   "source": [
    "So, one of your key goals this summer is to calculate the amount of hot gas (traced by OVI) that is in the CGM of your galaxy. So you have a few important steps to do this calculation for each of your galaxies:\n",
    "1. Define your CGM\n",
    "2. Calculate the amount of OVI\n",
    "3. Calculate the average column density of OVI, $N_{OVI}$ in the CGM\n",
    "4. Plot the $N_{OVI}$ vs $M_{*}$ for every galaxy in your sample"
   ]
  },
  {
   "cell_type": "markdown",
   "id": "96af1fab-096e-4971-aa1e-d8e856712280",
   "metadata": {},
   "source": [
    "## 1. Define the CGM"
   ]
  },
  {
   "cell_type": "markdown",
   "id": "5866222d-a8f8-4fab-be99-adcc1734080d",
   "metadata": {},
   "source": [
    "To define the CGM, you need to select all the particles that are *outside the disk of the galaxy* and *inside the virial radius*. Due to the way that the simulations were prepared for you, you don't have to worry about the outer radius, you ONLY have gas particles from inside the virial radius of your galaxies. But, you do need to remove the interstellar medium (i.e. the gas inside the disk and bulge of the galaxy). \n",
    "\n",
    "To do this selection, you can use the following steps:\n",
    "\n",
    "1. Define an object called all_gas\n",
    " \n",
    "```all_gas = hnumber.g```\n",
    "\n",
    "2. Decide on a radius of your galaxy (let's start with 10 kpc for now); we are going to remove all the gas particles inside this radius\n",
    "\n",
    "```disk_radius = 10```\n",
    "\n",
    "3. From all_gas, select only the gas particles outside disk_radius\n",
    "\n",
    "```all_gas['r'] > 10```\n",
    "\n",
    "You can see that this is an array of False and True. This array tells us which particles are inside or outside of 10 kpc. We can use this array like a selection tool, aka an index, for the all_gas array so that it only selects the particles outside 10 kpc\n",
    "\n",
    "```all_gas[all_gas['r'] > 10]```\n",
    "\n",
    "4. Call this new array: CGM_gas\n",
    "\n",
    "```CGM_gas = all_gas[all_gas['r'] > 10]```\n",
    "\n",
    "5. Print the length of all_gas and CGM_gas and you'll see that you've removed a large number of particles.\n",
    "\n",
    "6. Try plotting a SIDEON image of CGM_gas, and you should see a sphere of particles missing from the center of the halo."
   ]
  },
  {
   "cell_type": "code",
   "execution_count": null,
   "id": "0da70c05-9fb1-4098-b60e-da512949831f",
   "metadata": {},
   "outputs": [],
   "source": [
    "# Define an object called all_gas\n"
   ]
  },
  {
   "cell_type": "code",
   "execution_count": null,
   "id": "e09720d7-27ee-4b0d-bc8b-fd18f0e192fe",
   "metadata": {},
   "outputs": [],
   "source": [
    "# Define the a radius of your galaxy\n"
   ]
  },
  {
   "cell_type": "code",
   "execution_count": null,
   "id": "dfa7e9fb-f927-4bf3-a49e-ba928f8c64b3",
   "metadata": {},
   "outputs": [],
   "source": [
    "# Select only the gas particles outside disk_radius\n"
   ]
  },
  {
   "cell_type": "code",
   "execution_count": null,
   "id": "7cb337eb-a0d7-4edd-8482-78cf08e111e8",
   "metadata": {},
   "outputs": [],
   "source": [
    "# Define array CGM_gas\n"
   ]
  },
  {
   "cell_type": "code",
   "execution_count": null,
   "id": "6b72fd04-4545-4fac-bc43-e6a63603d0f0",
   "metadata": {},
   "outputs": [],
   "source": [
    "# Print the length of all_gas and CGM_gas\n"
   ]
  },
  {
   "cell_type": "code",
   "execution_count": null,
   "id": "f3b248a4-0cc8-4e4c-af83-48ba7ce0bf82",
   "metadata": {},
   "outputs": [],
   "source": [
    "# Plot a SIDEON image of CGM_gas\n"
   ]
  },
  {
   "cell_type": "markdown",
   "id": "67736b6c-16cf-4a05-b87d-37449a0f0e42",
   "metadata": {},
   "source": [
    "## 2. Calculate the amount of OVI in the CGM"
   ]
  },
  {
   "cell_type": "markdown",
   "id": "bc216b18-58d9-419e-b2ce-005636a99806",
   "metadata": {
    "jp-MarkdownHeadingCollapsed": true
   },
   "source": [
    "### Important note: Our simulations directly track oxygen and iron, \n",
    "but otherwise we assume that our galaxies follow solar abundances for other elements (Citation: Asplund 2009)"
   ]
  },
  {
   "cell_type": "markdown",
   "id": "13d3e831-13d7-4cac-873b-ec5121260c0d",
   "metadata": {},
   "source": [
    "The equation to calculate the OVI in every particle looks like:\n",
    "\\begin{equation}\n",
    "M_{OVI} = M_{gas} \\times f_{oxygen\\ mass} \\times f_{OVI\\ mass}\n",
    "\\end{equation}\n",
    "\n",
    "where $M_{gas}$ is the mass of every gas particle, f_{oxygen\\ mass} is the fraction of gas mass in oxygen, and f_{OVI\\ mass} if the fraction of oxygen mass in OVI.\n",
    "\n",
    "### OVI in an entire halo\n",
    "You will first calculate the amount of OVI gas mass in the CGM of one entire galaxy in the cell below. Before that, I've broken down each of the steps in detail:\n",
    "\n",
    "1. First, you will need *the total amount of gas mass* per particle\n",
    "\n",
    "   - As you have previous seen, the array containing all the gas mass in the galaxy looks like this:\n",
    "\n",
    "     ```hnumber.g['mass']```\n",
    "  \n",
    "2. Then you want to *calculate the amount of oxygen mass*\n",
    "   \n",
    "   - The array 'OxMassFrac' is the *oxygen mass fraction* of each gas particle. In other words, because each gas particle is really a cloud of gas, the 'OxMassFrac' quantity tells us \"how much of the mass of each gas particle is made up of oxygen\"\n",
    "\n",
    "   - So, to calculate the amount of oxygen mass in each gas particle in the galaxy:\n",
    "\n",
    "     ```hnumber.g['mass'] * hnumber.g['OxMassFrac']```\n",
    "\n",
    "        *** Capitalization is important when calling column from the galaxy object/table\n",
    "      \n",
    "3. Finally, you need to use the function ```hdf5_ion_frac``` from Nicole to calculate the amount of OVI within the oxygen mass\n",
    "   \n",
    "   - Just like you used the oxygen mass fraction to calculate how much oxygen mass there was in each gas mass, you similarly need to use the function to get the OVI Mass Fraction to be able to calculate how much OVI mass is present in each gas particle.\n",
    "  \n",
    "   - To do get this fraction, you'll need two things\n",
    "     \n",
    "     1. The hm2012_hr.h5 table which you can download in the [2025 Google Drive](https://drive.google.com/drive/folders/1h7cVDVEkkeqG-oaOLKNW4jld2MWzdRer?usp=drive_link)\n",
    "     2. The hdf5_Novi_R.py code from Nicole (should be included in the CASSI Research Github already)\n",
    "\n",
    "\n",
    "    - You'll use Nicole's code using the following syntax:\n",
    "  \n",
    "      ``` from hdf5_Novi_R import hdf5_ion_frac ```\n",
    "\n",
    "      ``` OVI_mass_frac = hdf5_ion_frac(sim=hg, element=\"O\", ion=5) # OVI is 5 because it has 5 e- removed ```\n",
    "\n",
    "    - Then, you can calculate:\n",
    "  \n",
    "      ```hnumber.g['mass'] * hnumber.g['OxMassFrac'] * OVI_mass_frac```\n",
    "\n",
    "   - The resulting array is the *amount of OVI mass in every gas particle* in the galaxy.\n",
    "\n",
    "4. Once you calculate the sum of the array, you'll have the total OVI mass for the galaxy!\n",
    "\n",
    "   - Hint: Remember that ```np.sum(name_of_array)``` can add it all up for you "
   ]
  },
  {
   "cell_type": "code",
   "execution_count": null,
   "id": "cff901b8-89c3-48a0-a3e1-313917c7ff3d",
   "metadata": {},
   "outputs": [],
   "source": [
    "# I know it looks like a lot of steps, but remember that creating a new object for everything can make things easier to understand\n",
    "# For example, to calculate the total mass of the OVI in the entire galaxy (using h19 for an example)\n",
    "import pynbody\n",
    "from hdf5_Novi_R import hdf5_ion_frac\n",
    "\n",
    "# Load in your galaxy as usual using your module\n",
    "h19 = pynbody.load('../R25_gsonly/R25_h18_gsonly')\n",
    "h19.physical_units()\n",
    "\n",
    "pynbody.analysis.angmom.faceon(h19.g)\n",
    "\n",
    "# Define just the gas particles\n",
    "h19_gas = h19.g\n",
    "\n",
    "# You'll need three things: gas mass, oxygen mass fraction, OVI mass fraction\n",
    "h19_gas_mass = h19_gas['mass']\n",
    "\n",
    "h19_gas_oxygen_mass_fraction = h19_gas['OxMassFrac']\n",
    "\n",
    "h19_gas_OVI_mass_fraction = hdf5_ion_frac(sim=h19, element=\"O\", ion=5) # this function needs to full sim to calculate the OVI gas\n",
    "\n",
    "# Then you can calculate the amount of mass in OVI gas using the equation above\n",
    "h19_gas_OVI_mass = h19_gas_mass * h19_gas_oxygen_mass_fraction * h19_gas_OVI_mass_fraction\n",
    "\n",
    "# Sum the h19_gas_OVI_mass to get the total amount of OVI gas in the galaxy"
   ]
  },
  {
   "cell_type": "markdown",
   "id": "a3656da8-d55d-44b3-8e34-a1898dd34cb9",
   "metadata": {},
   "source": [
    "### Now, you are going to calculate the amount of all OVI gas mass $\\underline{in\\ the\\ CGM}$\n",
    "\n",
    "Use the instructions and the example code above to redo this calculation for the gas particles only in the CGM \n",
    "- For this calculation, define the CGM at 15 kpc as you previously have done\n",
    "\n",
    "#### Important instruction from Nicole: As you are writing this code for the CGM, I want you to use one cell per line of code and use comments like I did above to write a short description of what each line in the code is doing. For example:"
   ]
  },
  {
   "cell_type": "code",
   "execution_count": null,
   "id": "096a0f23-561a-4986-86b6-578780ab74e3",
   "metadata": {},
   "outputs": [],
   "source": [
    "# First, I need to load in additional functions I might need\n",
    "import numpy as np"
   ]
  },
  {
   "cell_type": "markdown",
   "id": "e6b770fd-0f90-43db-9756-144a8b75891c",
   "metadata": {},
   "source": [
    "And so on."
   ]
  },
  {
   "cell_type": "markdown",
   "id": "bcbc3479-46b4-4215-854f-cd30ca3b80dc",
   "metadata": {},
   "source": [
    "### OVI in the CGM"
   ]
  },
  {
   "cell_type": "code",
   "execution_count": null,
   "id": "32dd2ab0-f752-49da-b795-2da7bc76ed9d",
   "metadata": {},
   "outputs": [],
   "source": []
  },
  {
   "cell_type": "code",
   "execution_count": null,
   "id": "be293abf-f9f9-49f1-858b-1a9456ad95b4",
   "metadata": {},
   "outputs": [],
   "source": []
  },
  {
   "cell_type": "code",
   "execution_count": null,
   "id": "c3596edf-88b9-4a6b-9261-2f5d57cf61b3",
   "metadata": {},
   "outputs": [],
   "source": []
  },
  {
   "cell_type": "code",
   "execution_count": null,
   "id": "a1821798-7180-411a-b349-85e12f4f0236",
   "metadata": {},
   "outputs": [],
   "source": []
  },
  {
   "cell_type": "code",
   "execution_count": null,
   "id": "ff64361f-7bea-41e8-9835-b42d4a9ee36a",
   "metadata": {},
   "outputs": [],
   "source": []
  },
  {
   "cell_type": "code",
   "execution_count": null,
   "id": "099af7ab-e57e-42ac-b434-93f66d728462",
   "metadata": {},
   "outputs": [],
   "source": []
  },
  {
   "cell_type": "code",
   "execution_count": null,
   "id": "8aa5df99-6969-4b94-87c8-16fac4aecc9c",
   "metadata": {},
   "outputs": [],
   "source": []
  },
  {
   "cell_type": "code",
   "execution_count": null,
   "id": "01201fbc-93d4-4280-8d6b-86f23f5ad849",
   "metadata": {},
   "outputs": [],
   "source": [
    "#### Finally, make a plot of the total OVI gas mass vs stellar mass"
   ]
  },
  {
   "cell_type": "markdown",
   "id": "a0139c50-094d-43d9-8230-0546e750032b",
   "metadata": {},
   "source": [
    "## 3. Calculate the average column density in the CGM"
   ]
  },
  {
   "cell_type": "markdown",
   "id": "df200ec8-f50f-4723-a658-204216c35df9",
   "metadata": {},
   "source": [
    "Now that you have calculated the values for the OVI mass in each gas particle and the OVI mass fraction, to be able to compare to observations, we need to calculate the column density of OVI, $N_{OVI}$.\n",
    "\n",
    "If you look at the plot from the Dutta paper (it's in the intro keynote presentation), you'll see that Figure 6 is a plot of N(OVI) vs stellar mass. To make this, we need to combine the information from your previous calculation and the profile function you learned about in notebook 3."
   ]
  },
  {
   "cell_type": "code",
   "execution_count": null,
   "id": "31e8012e-ec6a-432c-9a1d-50d75de13f8a",
   "metadata": {},
   "outputs": [],
   "source": [
    "# You can add a row to your halo object/table the following way:\n",
    "h19_gas['OVIMassFraction'] = h19_gas_OVI_mass_fraction"
   ]
  },
  {
   "cell_type": "code",
   "execution_count": null,
   "id": "e371bf3f-ba79-4bb6-a2a1-f9ca9d746ba5",
   "metadata": {},
   "outputs": [],
   "source": [
    "# Then when you run the profile function, you now have a column that includes the OVI Mass Fraction you calculated\n",
    "h19_gas_profile = pynbody.analysis.profile.Profile(h19_gas, vmin =.01, max=100)"
   ]
  },
  {
   "cell_type": "markdown",
   "id": "e1dce730-393a-4f70-8ed2-d73a3fc2b4a0",
   "metadata": {},
   "source": [
    "# Calculate Novi for our plot\n",
    "\n",
    "## To calculate the column density of OVI (which is the value that we need for the plot), we use an equation that compresses our data along one axis:\n",
    "\n",
    "The equation looks like:\n",
    "\n",
    "\\begin{equation}\n",
    "N_{OVI} = log_{10}(\\frac{M_{gas} \\times f_{oxygen\\ mass} \\times f_{OVI\\ mass}}{16 * m_p} \\times \\frac{1}{bin\\ size})\n",
    "\\end{equation}\n",
    "\n",
    "where: $M_{gas}$ is the gas mass profile in units of grams, $f_{oxygen\\ mass}$ is the oxygen mass fraction profile, $f_{OVI\\ mass\\ fraction}$ is the OVI mass fraction profile, $m_p$ is the mass of a proton in grams, and the bin size is the size of the bins used to calculate the profile.\n",
    "\n",
    "In code, this equation will look something like this:"
   ]
  },
  {
   "cell_type": "code",
   "execution_count": null,
   "id": "3b90f8fe-d019-4f05-a5ab-6ea40ba95fce",
   "metadata": {},
   "outputs": [],
   "source": [
    "Novi_profile = np.log10((h19_gas_profile['mass'].in_units('g')*h19_gas_profile['OxMassFrac']*h19_gas_profile['OVI']//(16*m_p))/h19_gas_profile._binsize.in_units('cm**2'))"
   ]
  },
  {
   "cell_type": "markdown",
   "id": "bd5a8f2c-7d5c-4382-a62d-37b92e6f9551",
   "metadata": {},
   "source": [
    "#### Below, plot the Novi_profile vs profile['rbins'] just like you did in notebook 3\n",
    "\n",
    "Don't forget you'll need to import matplotlib if you didn't already!"
   ]
  },
  {
   "cell_type": "code",
   "execution_count": null,
   "id": "cc32eb9e-43be-4bb3-98b9-1c12b421d4b6",
   "metadata": {},
   "outputs": [],
   "source": [
    "# Plot here!"
   ]
  },
  {
   "cell_type": "markdown",
   "id": "0c0eac05-b2c7-47ac-8821-1b8eed8d1cb7",
   "metadata": {},
   "source": [
    "Nice plot! Now, we just have one last step in this phase. \n",
    "\n",
    "Since you are going to be plotting one value for each galaxy CGM instead of the profile, you'll need to take the average of the OVI profile. Google ```numpy average function``` to figure out how to take the average of the ```Novi_profile``` array."
   ]
  },
  {
   "cell_type": "code",
   "execution_count": null,
   "id": "6ab3c944-99bc-43d4-bd2a-9224d412590b",
   "metadata": {},
   "outputs": [],
   "source": [
    "# Take the average here"
   ]
  },
  {
   "cell_type": "markdown",
   "id": "d6801a29-0335-4ef2-942d-36ad87e57202",
   "metadata": {},
   "source": [
    "## 4. Plot $N_{OVI}$ vs M_{*}"
   ]
  },
  {
   "cell_type": "markdown",
   "id": "0e49d1ea-1816-4d29-866b-c2c4ef1dad02",
   "metadata": {},
   "source": [
    "Calculate M_star for your galaxy as you've previously done:\n",
    "\n",
    "```hnumber.s['mass].sum()``` \n",
    "\n",
    "for comparison to observations, you need to multiple this number by 0.6. \n",
    "\n",
    "***Ask Nicole about this when you get to this point."
   ]
  },
  {
   "cell_type": "code",
   "execution_count": null,
   "id": "22b65769-a2a8-4e12-b61e-820f8d39fa2e",
   "metadata": {},
   "outputs": [],
   "source": [
    "# Calculate Mstar*0.6"
   ]
  },
  {
   "cell_type": "code",
   "execution_count": null,
   "id": "5ecce8a3-1e30-4a56-93c7-bfd4c6dbaa40",
   "metadata": {},
   "outputs": [],
   "source": [
    "# Using plt.scatter, plot the average NOVI of the galaxy CGM vs the galaxy's stellar mass\n",
    "# Then look at Dutta+2025 Figure 6 and see if point looks like it matches the observations"
   ]
  },
  {
   "cell_type": "code",
   "execution_count": null,
   "id": "4369e713-c66f-40a0-b247-6f046e626ce5",
   "metadata": {},
   "outputs": [],
   "source": []
  }
 ],
 "metadata": {
  "kernelspec": {
   "display_name": "Python 3 (ipykernel)",
   "language": "python",
   "name": "python3"
  },
  "language_info": {
   "codemirror_mode": {
    "name": "ipython",
    "version": 3
   },
   "file_extension": ".py",
   "mimetype": "text/x-python",
   "name": "python",
   "nbconvert_exporter": "python",
   "pygments_lexer": "ipython3",
   "version": "3.9.19"
  }
 },
 "nbformat": 4,
 "nbformat_minor": 5
}
