{
 "cells": [
  {
   "cell_type": "markdown",
   "metadata": {
    "deletable": true,
    "editable": true
   },
   "source": [
    "### Resources\n",
    "\n",
    "In addition to the jupyter notebooks included in this github repository, there are a number of tutorials that may end up being useful to you as you progress through the research. \n",
    "\n",
    "Some useful links:\n",
    "\n",
    "- Making images with Pynbody:\n",
    "\n",
    "https://pynbody.readthedocs.io/v1-docs/tutorials/pictures.html\n",
    "\n",
    "- Once we start using Tangos:\n",
    "\n",
    "https://nbviewer.jupyter.org/github/pynbody/tangos/blob/master/docs/Data%20exploration%20with%20python.ipynb"
   ]
  },
  {
   "cell_type": "markdown",
   "metadata": {
    "deletable": true,
    "editable": true
   },
   "source": [
    "# Star Formation Histories (SFH)"
   ]
  },
  {
   "cell_type": "code",
   "execution_count": null,
   "metadata": {
    "deletable": true,
    "editable": true
   },
   "outputs": [],
   "source": [
    "# Always remember to load in your packages\n",
    "import matplotlib.pyplot as plt\n",
    "import pynbody\n",
    "\n",
    "# Include modules with functions you've created\n",
    "from julias_module import * \n",
    "# or: import julias_module \n",
    "# in this second case, you'd call is like by using: julias_module.function()"
   ]
  },
  {
   "cell_type": "markdown",
   "metadata": {
    "deletable": true,
    "editable": true
   },
   "source": [
    "Star formation histories are usefull tools for understanding a galaxy. They are function of the amount of stars (in solar masses) formed throughout time. They can directly show when events like mergers, quenching, and accretion occur since all of those events impact star formation."
   ]
  },
  {
   "cell_type": "code",
   "execution_count": null,
   "metadata": {
    "deletable": true,
    "editable": true
   },
   "outputs": [],
   "source": [
    "# Here you'll want to load in our simulation, select the main halo, convert to physical units, and center it\n",
    "# Consider using your module here?"
   ]
  },
  {
   "cell_type": "code",
   "execution_count": null,
   "metadata": {
    "deletable": true,
    "editable": true
   },
   "outputs": [],
   "source": [
    "# Once you have your halo object.\n",
    "pynbody.plot.stars.sfh(sim_or_halo_object,bins=100)"
   ]
  },
  {
   "cell_type": "markdown",
   "metadata": {
    "deletable": true,
    "editable": true
   },
   "source": [
    "Great! Let's pause talk about what we're seeing in this SFH at our next meeting."
   ]
  },
  {
   "cell_type": "code",
   "execution_count": null,
   "metadata": {},
   "outputs": [],
   "source": []
  },
  {
   "cell_type": "code",
   "execution_count": null,
   "metadata": {},
   "outputs": [],
   "source": []
  }
 ],
 "metadata": {
  "kernelspec": {
   "display_name": "Python 3 (ipykernel)",
   "language": "python",
   "name": "python3"
  },
  "language_info": {
   "codemirror_mode": {
    "name": "ipython",
    "version": 3
   },
   "file_extension": ".py",
   "mimetype": "text/x-python",
   "name": "python",
   "nbconvert_exporter": "python",
   "pygments_lexer": "ipython3",
   "version": "3.9.19"
  }
 },
 "nbformat": 4,
 "nbformat_minor": 4
}
