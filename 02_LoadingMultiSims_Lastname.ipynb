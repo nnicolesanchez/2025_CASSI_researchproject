{
 "cells": [
  {
   "cell_type": "markdown",
   "id": "d3a815b4-477b-4676-90c9-5b619ab39f60",
   "metadata": {},
   "source": [
    "### Resources\n",
    "\n",
    "In addition to the jupyter notebooks included in this github repository, there are a number of tutorials that may end up being useful to you as you progress through the research. \n",
    "\n",
    "Some useful links:\n",
    "\n",
    "- Making images with Pynbody:\n",
    "\n",
    "https://pynbody.readthedocs.io/v1-docs/tutorials/pictures.html\n",
    "\n",
    "- Once we start using Tangos:\n",
    "\n",
    "https://nbviewer.jupyter.org/github/pynbody/tangos/blob/master/docs/Data%20exploration%20with%20python.ipynb"
   ]
  },
  {
   "cell_type": "markdown",
   "id": "af46e6ea-e455-45a2-9227-df37ff32bd5f",
   "metadata": {},
   "source": [
    "# Loading Multiple Simulations at Once\n",
    "\n",
    "As we've discussed, you're going to be analyzing dozens (potentially up to a hundred!) galaxies from the Romulus25 cosmological volume (a simulation that is like a slab of the universe).\n",
    "\n",
    "So, you'll need to be able to load in multiple simulations at a time to compare them to each other. \n",
    "\n",
    "Loading multiple simulations is very similar to loading a single simulation, but be carefu with the way that you name your simulation objects or you might end up accidentally overwriting it!\n",
    "\n",
    "For example:"
   ]
  },
  {
   "cell_type": "code",
   "execution_count": null,
   "id": "bf86340c-ccc9-49f9-aaf3-b2293cb1f28b",
   "metadata": {},
   "outputs": [],
   "source": [
    "sim = pynbody.load('/home/your_home_directory/2025_CASSI_data/R25_h19/R25_h19_gsonly')\n",
    "\n",
    "sim = pynbody.load('/home/your_home_directory/2025_CASSI_data/R25_h33/R25_h33_gsonly')\n",
    "\n",
    "sim = pynbody.load('/home/your_home_directory/2025_CASSI_data/R25_h50/R25_h50_gsonly')"
   ]
  },
  {
   "cell_type": "code",
   "execution_count": null,
   "id": "bd25d8eb-7036-4328-a6cf-0a581fc9143b",
   "metadata": {},
   "outputs": [],
   "source": [
    "# Try printing your simulation here"
   ]
  },
  {
   "cell_type": "markdown",
   "id": "0b9f84b8-a40c-49b1-b038-91e49ec7efc5",
   "metadata": {},
   "source": [
    "will end up ONLY LOADING HALO 50. To load in multiple snapshots, you need to set them to unique names."
   ]
  },
  {
   "cell_type": "code",
   "execution_count": null,
   "id": "9f4870f8-c307-4878-9206-5ac7496298ed",
   "metadata": {},
   "outputs": [],
   "source": [
    "sim1 = pynbody.load('/home/your_home_directory/2025_CASSI_data/R25_h19/R25_h19_gsonly')\n",
    "\n",
    "sim2 = pynbody.load('/home/your_home_directory/2025_CASSI_data/R25_h33/R25_h33_gsonly')\n",
    "\n",
    "sim3 = pynbody.load('/home/your_home_directory/2025_CASSI_data/R25_h50/R25_h50_gsonly')"
   ]
  },
  {
   "cell_type": "code",
   "execution_count": null,
   "id": "72c1c2a3-7a2f-431a-844c-3198dbf10649",
   "metadata": {},
   "outputs": [],
   "source": [
    "# Try printing your different simulation here"
   ]
  },
  {
   "cell_type": "markdown",
   "id": "b113e913-b338-45e5-b8ec-5514aa951ac6",
   "metadata": {},
   "source": [
    "### Programming Tip: Create USEFUL names\n",
    "\n",
    "The previous cell *works* but it might be easy to forget that sim1 = h19 once you've been working in this notebook for a while, so it's good practice to set your variable names to more useful phrases like:"
   ]
  },
  {
   "cell_type": "code",
   "execution_count": null,
   "id": "8a136e91-1acb-46b3-95c2-f8457a5bf4ea",
   "metadata": {},
   "outputs": [],
   "source": [
    "h19 = pynbody.load('/home/your_home_directory/2025_CASSI_data/R25_h19/R25_h19_gsonly')\n",
    "\n",
    "h33 = pynbody.load('/home/your_home_directory/2025_CASSI_data/R25_h33/R25_h33_gsonly')\n",
    "\n",
    "h50 = pynbody.load('/home/your_home_directory/2025_CASSI_data/R25_h50/R25_h50_gsonly')"
   ]
  },
  {
   "cell_type": "code",
   "execution_count": null,
   "id": "088feebb-513e-47c0-9d1f-e0d766e1dbdf",
   "metadata": {},
   "outputs": [],
   "source": [
    "# Try printing your different simulation here"
   ]
  },
  {
   "cell_type": "code",
   "execution_count": null,
   "id": "b45e82c2-a7ad-45f5-a6a2-d93e69dfcabf",
   "metadata": {},
   "outputs": [],
   "source": [
    "# Try printing the gas mass of the particles in one simulation here; refer back to notebook 01 if need be"
   ]
  },
  {
   "cell_type": "markdown",
   "id": "6dfe5caf-ede1-44ac-aec1-92003c9fcfab",
   "metadata": {},
   "source": [
    "# Two things you always have to do when loading sims \n",
    "1. Convert the simulation into physical units\n",
    "   - ```sim.physical_units()```\n",
    "   - ```pynbody.analysis.angmom.faceon(sim)```\n",
    "2. Center the galaxy\n",
    "   - ```pynbody.analysis.angmom.faceon(sim)```\n",
    "\n",
    "But now you have 3 galaxies, so you need to apply these same things to each of them.\n",
    "Do that below:"
   ]
  },
  {
   "cell_type": "code",
   "execution_count": null,
   "id": "f9071aee-0593-41f1-a4ce-755aad528469",
   "metadata": {},
   "outputs": [],
   "source": [
    "# Always convert each simulation to physical units first, then center each simulation on the galaxy"
   ]
  },
  {
   "cell_type": "markdown",
   "id": "6063acad-a377-4fe7-bb87-6d1a32d6b040",
   "metadata": {},
   "source": [
    "# Plot multiple images of different galaxies"
   ]
  },
  {
   "cell_type": "markdown",
   "id": "897725ef-94b0-4126-820c-6b4e96a0453a",
   "metadata": {},
   "source": [
    "In the previous notebook, you plotted the gas density and temperature along with some other properties of the galaxies. Now you're going to plot the gas density for each of these galaxies:"
   ]
  },
  {
   "cell_type": "code",
   "execution_count": 3,
   "id": "7f67cc6f-1214-44d5-8c0d-cc02c1459e9e",
   "metadata": {},
   "outputs": [],
   "source": [
    "# Plot gas density for each galaxy"
   ]
  },
  {
   "cell_type": "code",
   "execution_count": null,
   "id": "dc4ae692-ee05-4f95-a6b0-613bad95ff20",
   "metadata": {},
   "outputs": [],
   "source": []
  },
  {
   "cell_type": "code",
   "execution_count": null,
   "id": "8b3ab129-9995-49a0-a77e-e2b42927f42c",
   "metadata": {},
   "outputs": [],
   "source": []
  },
  {
   "cell_type": "markdown",
   "id": "4cde7632-897b-44d9-9bbb-def2a811b7cf",
   "metadata": {},
   "source": [
    "## Now try putting them all in the same plot:\n",
    "\n",
    "Using the tips from this page: https://matplotlib.org/stable/gallery/subplots_axes_and_figures/subplots_demo.html\n",
    "Try and see if you can put all of the gas density plots in the same figure.\n",
    "\n",
    "**TIP**: Remember that you're plotting these images with pynbody, so you won't be able to use the same syntax as the subplots demo linked above. You'll need to look at the pynbody documentation to see how to pass the different axes to pynbody. \n",
    "\n",
    "**TIP 2**: There may be a helpful example in the \"Pictures in Pynbody\" link.\n",
    "\n",
    "*Note:* This is TRICKY, so if you get stuck here, go ahead and move on to the next notebook after making individual figures below, then you and Nicole can work through it together. "
   ]
  },
  {
   "cell_type": "markdown",
   "id": "2523d2c6-b2b3-457b-bb79-f379141efa31",
   "metadata": {},
   "source": [
    "Now that you've plotted the gas density, plot the mulit-band image of the stars (see https://pynbody.readthedocs.io/v1-docs/tutorials/pictures.html#multi-band-images-of-stars) for these three galaxies. If you can, make it into one figure, or make 3 individual figures if you get stuck."
   ]
  },
  {
   "cell_type": "code",
   "execution_count": null,
   "id": "54bcdf51-168a-4b92-a02b-8fa09dab78e5",
   "metadata": {},
   "outputs": [],
   "source": []
  }
 ],
 "metadata": {
  "kernelspec": {
   "display_name": "Python 3 (ipykernel)",
   "language": "python",
   "name": "python3"
  },
  "language_info": {
   "codemirror_mode": {
    "name": "ipython",
    "version": 3
   },
   "file_extension": ".py",
   "mimetype": "text/x-python",
   "name": "python",
   "nbconvert_exporter": "python",
   "pygments_lexer": "ipython3",
   "version": "3.9.19"
  }
 },
 "nbformat": 4,
 "nbformat_minor": 5
}
