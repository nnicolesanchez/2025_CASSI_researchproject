{
 "cells": [
  {
   "cell_type": "markdown",
   "metadata": {
    "deletable": true,
    "editable": true
   },
   "source": [
    "# Resources "
   ]
  },
  {
   "cell_type": "markdown",
   "metadata": {
    "deletable": true,
    "editable": true
   },
   "source": [
    "In addition to the jupyter notebooks included in this github repository, there are a number of tutorials that may end up being useful to you as you progress through the research. \n",
    "\n",
    "Some useful links:\n",
    "\n",
    "- Making images with Pynbody:\n",
    "\n",
    "https://pynbody.readthedocs.io/v1-docs/tutorials/pictures.html\n",
    "\n",
    "- Once we start using Tangos:\n",
    "\n",
    "https://nbviewer.jupyter.org/github/pynbody/tangos/blob/master/docs/Data%20exploration%20with%20python.ipynb"
   ]
  },
  {
   "cell_type": "markdown",
   "metadata": {
    "deletable": true,
    "editable": true
   },
   "source": [
    "## Now let's load in our first simulation snapshot for your analysis\n",
    "\n",
    "### Julia, I developed these notebooks for previous summer students, so some of this might be a little repetitive\n",
    "- You'll be using these tools *A LOT* though, so it's good to get some extra practice"
   ]
  },
  {
   "cell_type": "markdown",
   "metadata": {
    "deletable": true,
    "editable": true
   },
   "source": [
    "The main python package that you will use to get start is called pynbody (or $\\textbf{py}$thon $\\textbf{nbody}$)\n",
    "\n",
    "You'll need to load it in in addition to the other python packages you usually use such as matplotlib or numpy."
   ]
  },
  {
   "cell_type": "code",
   "execution_count": null,
   "metadata": {
    "deletable": true,
    "editable": true
   },
   "outputs": [],
   "source": [
    "# Run this cell by hitting the play button up at the top or hitting shift+return\n",
    "import matplotlib.pyplot as plt\n",
    "import pynbody\n",
    "\n",
    "% matplotlib inline"
   ]
  },
  {
   "cell_type": "markdown",
   "metadata": {
    "deletable": true,
    "editable": true
   },
   "source": [
    "To load in the simulation, you'll use the function:\n",
    "\n",
    "```pynbody.load('\\path\\to\\simulation')```"
   ]
  },
  {
   "cell_type": "markdown",
   "metadata": {
    "deletable": true,
    "editable": true
   },
   "source": [
    "Our simulations are stored on a NASA Super Computer. Nicole will send you the first set of simulations in a zipped file via email. After your preliminary analysis, you will use the observation paper of Mishra+2025 to determine the sample selection requirements for the rest of the simulated galaxies in your analysis. (Nicole will help you with this too.)"
   ]
  },
  {
   "cell_type": "markdown",
   "metadata": {
    "deletable": true,
    "editable": true
   },
   "source": [
    "For now, you are loading in a snapshot from Romulus25, the halo h19:\n",
    "```R25_h19```"
   ]
  },
  {
   "cell_type": "markdown",
   "metadata": {
    "deletable": true,
    "editable": true
   },
   "source": [
    "The name tells you that it's a halo from Romulus25 (R25) and it is specifically halo 19. One other important thing to know is that all your simulations are selected from the *last* timestep in the simulation. \n",
    "- aka redshift z = 0 and t = 13.8 gyrs\n",
    "\n",
    "What this means is that your galaxies (if they existed in the real universe) are in the \"local universe\" or exist in present day. We can discuss this more in detail if it's unclear."
   ]
  },
  {
   "cell_type": "code",
   "execution_count": null,
   "metadata": {
    "collapsed": false,
    "deletable": true,
    "editable": true,
    "jupyter": {
     "outputs_hidden": false
    }
   },
   "outputs": [],
   "source": [
    "sim = pynbody.load('/home/your_home_directory/2025_CASSI_data/R25_h19/R25_h19_gsonly')"
   ]
  },
  {
   "cell_type": "markdown",
   "metadata": {
    "deletable": true,
    "editable": true
   },
   "source": [
    "The object \"sim\" now represents the stored simulation. If you run the next cell, you'll see what the object \"sim\" contains. \n",
    "- ```SimSnap``` refers to the type of object: a simulation snapshot\n",
    "- It also shows the path to the simulation snapshot you've loaded\n",
    "- ```len``` tells you how many particles are in the snapshot"
   ]
  },
  {
   "cell_type": "code",
   "execution_count": null,
   "metadata": {
    "deletable": true,
    "editable": true
   },
   "outputs": [],
   "source": [
    "sim"
   ]
  },
  {
   "cell_type": "markdown",
   "metadata": {
    "deletable": true,
    "editable": true
   },
   "source": [
    "You can also look at specific sets of particles in the simulation such as dark matter, stars, and gas.\n",
    "- sim.d = dark matter\n",
    "- sim.s = stars\n",
    "- sim.g = gas\n",
    "\n",
    "If you run the cell below, you can see how many of each type of particles are in the simulation."
   ]
  },
  {
   "cell_type": "code",
   "execution_count": null,
   "metadata": {
    "collapsed": false,
    "deletable": true,
    "editable": true,
    "jupyter": {
     "outputs_hidden": false
    },
    "scrolled": true
   },
   "outputs": [],
   "source": [
    "sim.d,sim.s,sim.g"
   ]
  },
  {
   "cell_type": "markdown",
   "metadata": {
    "deletable": true,
    "editable": true
   },
   "source": [
    "You can ask the simulation what properties are available for each type of particle by running the ```key()``` command."
   ]
  },
  {
   "cell_type": "code",
   "execution_count": null,
   "metadata": {
    "deletable": true,
    "editable": true
   },
   "outputs": [],
   "source": [
    "sim.g.keys()"
   ]
  },
  {
   "cell_type": "markdown",
   "metadata": {
    "deletable": true,
    "editable": true
   },
   "source": [
    "Finally, you can look at a property of the gas in the simulation by calling the property you're interested in."
   ]
  },
  {
   "cell_type": "code",
   "execution_count": null,
   "metadata": {
    "collapsed": false,
    "deletable": true,
    "editable": true,
    "jupyter": {
     "outputs_hidden": false
    }
   },
   "outputs": [],
   "source": [
    "sim.g['mass']"
   ]
  },
  {
   "cell_type": "code",
   "execution_count": null,
   "metadata": {
    "collapsed": false,
    "deletable": true,
    "editable": true,
    "jupyter": {
     "outputs_hidden": false
    }
   },
   "outputs": [],
   "source": [
    "sim.g,len(sim.g['mass'])"
   ]
  },
  {
   "cell_type": "markdown",
   "metadata": {
    "deletable": true,
    "editable": true
   },
   "source": [
    "There are two important things to note:\n",
    "    1. For each particle, there is an associated property (the ones listed in the keys() function)\n",
    "    2. Whenever you load in a simulation, you'll notice that it's in wacky simulation units. You need to convert the simulation into physical units for it to make sense."
   ]
  },
  {
   "cell_type": "code",
   "execution_count": null,
   "metadata": {
    "collapsed": false,
    "deletable": true,
    "editable": true,
    "jupyter": {
     "outputs_hidden": false
    }
   },
   "outputs": [],
   "source": [
    "sim.physical_units()"
   ]
  },
  {
   "cell_type": "markdown",
   "metadata": {
    "deletable": true,
    "editable": true
   },
   "source": [
    "Now when you look at the mass of gas again, it'll be in units of solar mass."
   ]
  },
  {
   "cell_type": "code",
   "execution_count": null,
   "metadata": {
    "collapsed": false,
    "deletable": true,
    "editable": true,
    "jupyter": {
     "outputs_hidden": false
    },
    "scrolled": true
   },
   "outputs": [],
   "source": [
    "sim.g['mass']"
   ]
  },
  {
   "cell_type": "markdown",
   "metadata": {},
   "source": [
    "You also can't forget to center your galaxy or your images will come out wonky or even break"
   ]
  },
  {
   "cell_type": "code",
   "execution_count": null,
   "metadata": {},
   "outputs": [],
   "source": [
    "pynbody.analysis.angmom.faceon(sim)"
   ]
  },
  {
   "cell_type": "markdown",
   "metadata": {
    "deletable": true,
    "editable": true
   },
   "source": [
    "### Let's make a figure:"
   ]
  },
  {
   "cell_type": "markdown",
   "metadata": {
    "deletable": true,
    "editable": true
   },
   "source": [
    "In addition to letting you load a simulation, pynbody has useful function to make images of the simulation. (Don't worry about the red warning that pops up.)"
   ]
  },
  {
   "cell_type": "code",
   "execution_count": null,
   "metadata": {
    "collapsed": false,
    "deletable": true,
    "editable": true,
    "jupyter": {
     "outputs_hidden": false
    }
   },
   "outputs": [],
   "source": [
    "# \"figsize\" determines the shape and size of the figure. \"dpi\" makes it look nicer. \n",
    "# Feel free to play around with these and see what looks best to you\n",
    "fig = plt.figure(figsize=[6,6],dpi=70) \n",
    "\n",
    "\n",
    "pynbody.plot.sph.image(sim.g,qty=\"rho\",units=\"g cm^-2\",width=5000,cmap=\"viridis\",\n",
    "                       vmin=2e-7,vmax=2e-2,show_cbar=False);"
   ]
  },
  {
   "cell_type": "markdown",
   "metadata": {
    "deletable": true,
    "editable": true
   },
   "source": [
    "Hurray!!! You've made your first image of a simulation! Let's stop here and talk a little more about galaxies."
   ]
  },
  {
   "cell_type": "markdown",
   "metadata": {
    "deletable": true,
    "editable": true
   },
   "source": [
    "# Practice exploring the simulation on your own\n"
   ]
  },
  {
   "cell_type": "markdown",
   "metadata": {
    "deletable": true,
    "editable": true
   },
   "source": [
    "Now that you've made an image of gas density of the simulation, try and make the following images:\n",
    "1. Plot the gas temperature (Pro tip: maybe try a different color map for this one)\n",
    "2. Plot the stellar density\n",
    "3. Plot the dark matter density\n",
    "\n",
    "4. In the \"Making Images with Pynbody\" link at the top of the page, there are some instructions for additional types of images. One of the types of images is a \"velocity_image\" (the fourth set of pictures). Try to make a velocity_image for the simulation using this function. (Pro tip: There are two versions you can try, either one is good. If it break because you're not using subplots, just go ahead and delete the subplots variable!)\n"
   ]
  },
  {
   "cell_type": "code",
   "execution_count": null,
   "metadata": {
    "collapsed": false,
    "deletable": true,
    "editable": true,
    "jupyter": {
     "outputs_hidden": false
    }
   },
   "outputs": [],
   "source": []
  },
  {
   "cell_type": "code",
   "execution_count": null,
   "metadata": {
    "deletable": true,
    "editable": true
   },
   "outputs": [],
   "source": []
  }
 ],
 "metadata": {
  "kernelspec": {
   "display_name": "Python 3 (ipykernel)",
   "language": "python",
   "name": "python3"
  },
  "language_info": {
   "codemirror_mode": {
    "name": "ipython",
    "version": 3
   },
   "file_extension": ".py",
   "mimetype": "text/x-python",
   "name": "python",
   "nbconvert_exporter": "python",
   "pygments_lexer": "ipython3",
   "version": "3.9.19"
  }
 },
 "nbformat": 4,
 "nbformat_minor": 4
}
